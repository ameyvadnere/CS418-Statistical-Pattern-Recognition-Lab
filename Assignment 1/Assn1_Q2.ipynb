{
 "cells": [
  {
   "cell_type": "code",
   "execution_count": 1,
   "metadata": {},
   "outputs": [],
   "source": [
    "# For numerical computations\n",
    "\n",
    "import numpy as np"
   ]
  },
  {
   "cell_type": "code",
   "execution_count": 12,
   "metadata": {},
   "outputs": [],
   "source": [
    "# This function is for generating points uniformly on the circumference.\n",
    "\n",
    "def generate_pts(n, npts):\n",
    "    \n",
    "    # n is the total no. of points generated on circumference in one experiment (n=2, 3 or 5)\n",
    "    # npts is the no. of such experiments.\n",
    "    \n",
    "    # Generate random x,y tuples\n",
    "    x = np.random.uniform(-1, 1, (npts*n, ))\n",
    "    y = np.sqrt(1-x**2)\n",
    "    for pt in range(npts*n):\n",
    "        pn = np.random.uniform(0,1) >= 0.5\n",
    "        if pn: y[pt] = -y[pt] # It can be +ve or -ve\n",
    "\n",
    "    # We now reshape the points npts sets of size n (n=2,3 or 5) points each.\n",
    "    return x.reshape(npts, n), y.reshape(npts, n)\n",
    "\n",
    "# This function is for calculating how many of those sets consist of points that lie on a semicircle\n",
    "\n",
    "def estimate_prob(n, npts):\n",
    "    \n",
    "    # X, Y are the generated sets of points having x and y coords. respectively.\n",
    "    X, Y = generate_pts(n, npts)\n",
    "    \n",
    "    # count is the total no. of sets (experiments) in which the points lie on a semicircle.\n",
    "    count = 0 \n",
    "    \n",
    "    for i in range(npts):\n",
    "        flag = False\n",
    "        for j in range(n):\n",
    "            x0, y0 = X[i][j], Y[i][j]\n",
    "            check = []\n",
    "            for k in range(n):\n",
    "                if k != j:\n",
    "                    x, y = X[i][k], Y[i][k]\n",
    "                    check.append(x0*y - y0*x <= 0) # x0*y - y0*x = 0 is the eqn. of the line joining center and (x0,y0)\n",
    "                \n",
    "            if len(set(check)) == 1: # All the points should lie either above or below the aforementioned line.\n",
    "                flag = True\n",
    "                break\n",
    "                \n",
    "        if flag:\n",
    "            count += 1\n",
    "            \n",
    "    return count/npts  # Return the proportion of the total experiments in which the points lie on a semicircle.\n",
    "            \n",
    "    \n",
    "# This function gives the true probability, which can be computed analytically:\n",
    "\n",
    "def true_prob(n):\n",
    "    return n/(2**(n-1))\n",
    "    "
   ]
  },
  {
   "cell_type": "code",
   "execution_count": 13,
   "metadata": {},
   "outputs": [
    {
     "name": "stdout",
     "output_type": "stream",
     "text": [
      "Estimated Probability:  1.0\n",
      "True Probability:  1.0\n"
     ]
    }
   ],
   "source": [
    "print(\"Estimated Probability: \", estimate_prob(n=2, npts=1000000))\n",
    "print(\"True Probability: \", true_prob(n=2))"
   ]
  },
  {
   "cell_type": "code",
   "execution_count": 14,
   "metadata": {},
   "outputs": [
    {
     "name": "stdout",
     "output_type": "stream",
     "text": [
      "Estimated Probability:  0.749475\n",
      "True Probability:  0.75\n"
     ]
    }
   ],
   "source": [
    "print(\"Estimated Probability: \", estimate_prob(n=3, npts=1000000))\n",
    "print(\"True Probability: \", true_prob(n=3))"
   ]
  },
  {
   "cell_type": "code",
   "execution_count": 15,
   "metadata": {},
   "outputs": [
    {
     "name": "stdout",
     "output_type": "stream",
     "text": [
      "Estimated Probability:  0.311226\n",
      "True Probability:  0.3125\n"
     ]
    }
   ],
   "source": [
    "print(\"Estimated Probability: \", estimate_prob(n=5, npts=1000000))\n",
    "print(\"True Probability: \", true_prob(n=5))"
   ]
  }
 ],
 "metadata": {
  "kernelspec": {
   "display_name": "Python 3",
   "language": "python",
   "name": "python3"
  },
  "language_info": {
   "codemirror_mode": {
    "name": "ipython",
    "version": 3
   },
   "file_extension": ".py",
   "mimetype": "text/x-python",
   "name": "python",
   "nbconvert_exporter": "python",
   "pygments_lexer": "ipython3",
   "version": "3.7.1"
  }
 },
 "nbformat": 4,
 "nbformat_minor": 2
}
