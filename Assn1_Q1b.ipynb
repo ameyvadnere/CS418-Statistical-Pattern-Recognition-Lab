{
  "nbformat": 4,
  "nbformat_minor": 0,
  "metadata": {
    "colab": {
      "name": "Assn1_Q1b",
      "provenance": [],
      "authorship_tag": "ABX9TyP7ZTRQyfl27c7o/ujDw2FE",
      "include_colab_link": true
    },
    "kernelspec": {
      "name": "python3",
      "display_name": "Python 3"
    },
    "widgets": {
      "application/vnd.jupyter.widget-state+json": {
        "3c4811daf11a49a5a27b25c48947cbe5": {
          "model_module": "@jupyter-widgets/controls",
          "model_name": "HBoxModel",
          "state": {
            "_view_name": "HBoxView",
            "_dom_classes": [],
            "_model_name": "HBoxModel",
            "_view_module": "@jupyter-widgets/controls",
            "_model_module_version": "1.5.0",
            "_view_count": null,
            "_view_module_version": "1.5.0",
            "box_style": "",
            "layout": "IPY_MODEL_af7233b0b25540cdb1348c4855a8c5bc",
            "_model_module": "@jupyter-widgets/controls",
            "children": [
              "IPY_MODEL_b7af4589a6164c20b44c94943fac9256",
              "IPY_MODEL_c9d53b09b19e44aab808ff00ef48b4bb"
            ]
          }
        },
        "af7233b0b25540cdb1348c4855a8c5bc": {
          "model_module": "@jupyter-widgets/base",
          "model_name": "LayoutModel",
          "state": {
            "_view_name": "LayoutView",
            "grid_template_rows": null,
            "right": null,
            "justify_content": null,
            "_view_module": "@jupyter-widgets/base",
            "overflow": null,
            "_model_module_version": "1.2.0",
            "_view_count": null,
            "flex_flow": null,
            "width": null,
            "min_width": null,
            "border": null,
            "align_items": null,
            "bottom": null,
            "_model_module": "@jupyter-widgets/base",
            "top": null,
            "grid_column": null,
            "overflow_y": null,
            "overflow_x": null,
            "grid_auto_flow": null,
            "grid_area": null,
            "grid_template_columns": null,
            "flex": null,
            "_model_name": "LayoutModel",
            "justify_items": null,
            "grid_row": null,
            "max_height": null,
            "align_content": null,
            "visibility": null,
            "align_self": null,
            "height": null,
            "min_height": null,
            "padding": null,
            "grid_auto_rows": null,
            "grid_gap": null,
            "max_width": null,
            "order": null,
            "_view_module_version": "1.2.0",
            "grid_template_areas": null,
            "object_position": null,
            "object_fit": null,
            "grid_auto_columns": null,
            "margin": null,
            "display": null,
            "left": null
          }
        },
        "b7af4589a6164c20b44c94943fac9256": {
          "model_module": "@jupyter-widgets/controls",
          "model_name": "FloatProgressModel",
          "state": {
            "_view_name": "ProgressView",
            "style": "IPY_MODEL_661b9cef2efa4e2d82c39ac07015433a",
            "_dom_classes": [],
            "description": "100%",
            "_model_name": "FloatProgressModel",
            "bar_style": "success",
            "max": 10,
            "_view_module": "@jupyter-widgets/controls",
            "_model_module_version": "1.5.0",
            "value": 10,
            "_view_count": null,
            "_view_module_version": "1.5.0",
            "orientation": "horizontal",
            "min": 0,
            "description_tooltip": null,
            "_model_module": "@jupyter-widgets/controls",
            "layout": "IPY_MODEL_924f5e3e864f44619532af5b70125b50"
          }
        },
        "c9d53b09b19e44aab808ff00ef48b4bb": {
          "model_module": "@jupyter-widgets/controls",
          "model_name": "HTMLModel",
          "state": {
            "_view_name": "HTMLView",
            "style": "IPY_MODEL_4a42c36e7e394bd7a935eb8db9e4e0d4",
            "_dom_classes": [],
            "description": "",
            "_model_name": "HTMLModel",
            "placeholder": "​",
            "_view_module": "@jupyter-widgets/controls",
            "_model_module_version": "1.5.0",
            "value": " 10/10 [00:00&lt;00:00, 31.90it/s]",
            "_view_count": null,
            "_view_module_version": "1.5.0",
            "description_tooltip": null,
            "_model_module": "@jupyter-widgets/controls",
            "layout": "IPY_MODEL_ee3bd15cc81b4ab19558876ea2eac05b"
          }
        },
        "661b9cef2efa4e2d82c39ac07015433a": {
          "model_module": "@jupyter-widgets/controls",
          "model_name": "ProgressStyleModel",
          "state": {
            "_view_name": "StyleView",
            "_model_name": "ProgressStyleModel",
            "description_width": "initial",
            "_view_module": "@jupyter-widgets/base",
            "_model_module_version": "1.5.0",
            "_view_count": null,
            "_view_module_version": "1.2.0",
            "bar_color": null,
            "_model_module": "@jupyter-widgets/controls"
          }
        },
        "924f5e3e864f44619532af5b70125b50": {
          "model_module": "@jupyter-widgets/base",
          "model_name": "LayoutModel",
          "state": {
            "_view_name": "LayoutView",
            "grid_template_rows": null,
            "right": null,
            "justify_content": null,
            "_view_module": "@jupyter-widgets/base",
            "overflow": null,
            "_model_module_version": "1.2.0",
            "_view_count": null,
            "flex_flow": null,
            "width": null,
            "min_width": null,
            "border": null,
            "align_items": null,
            "bottom": null,
            "_model_module": "@jupyter-widgets/base",
            "top": null,
            "grid_column": null,
            "overflow_y": null,
            "overflow_x": null,
            "grid_auto_flow": null,
            "grid_area": null,
            "grid_template_columns": null,
            "flex": null,
            "_model_name": "LayoutModel",
            "justify_items": null,
            "grid_row": null,
            "max_height": null,
            "align_content": null,
            "visibility": null,
            "align_self": null,
            "height": null,
            "min_height": null,
            "padding": null,
            "grid_auto_rows": null,
            "grid_gap": null,
            "max_width": null,
            "order": null,
            "_view_module_version": "1.2.0",
            "grid_template_areas": null,
            "object_position": null,
            "object_fit": null,
            "grid_auto_columns": null,
            "margin": null,
            "display": null,
            "left": null
          }
        },
        "4a42c36e7e394bd7a935eb8db9e4e0d4": {
          "model_module": "@jupyter-widgets/controls",
          "model_name": "DescriptionStyleModel",
          "state": {
            "_view_name": "StyleView",
            "_model_name": "DescriptionStyleModel",
            "description_width": "",
            "_view_module": "@jupyter-widgets/base",
            "_model_module_version": "1.5.0",
            "_view_count": null,
            "_view_module_version": "1.2.0",
            "_model_module": "@jupyter-widgets/controls"
          }
        },
        "ee3bd15cc81b4ab19558876ea2eac05b": {
          "model_module": "@jupyter-widgets/base",
          "model_name": "LayoutModel",
          "state": {
            "_view_name": "LayoutView",
            "grid_template_rows": null,
            "right": null,
            "justify_content": null,
            "_view_module": "@jupyter-widgets/base",
            "overflow": null,
            "_model_module_version": "1.2.0",
            "_view_count": null,
            "flex_flow": null,
            "width": null,
            "min_width": null,
            "border": null,
            "align_items": null,
            "bottom": null,
            "_model_module": "@jupyter-widgets/base",
            "top": null,
            "grid_column": null,
            "overflow_y": null,
            "overflow_x": null,
            "grid_auto_flow": null,
            "grid_area": null,
            "grid_template_columns": null,
            "flex": null,
            "_model_name": "LayoutModel",
            "justify_items": null,
            "grid_row": null,
            "max_height": null,
            "align_content": null,
            "visibility": null,
            "align_self": null,
            "height": null,
            "min_height": null,
            "padding": null,
            "grid_auto_rows": null,
            "grid_gap": null,
            "max_width": null,
            "order": null,
            "_view_module_version": "1.2.0",
            "grid_template_areas": null,
            "object_position": null,
            "object_fit": null,
            "grid_auto_columns": null,
            "margin": null,
            "display": null,
            "left": null
          }
        }
      }
    }
  },
  "cells": [
    {
      "cell_type": "markdown",
      "metadata": {
        "id": "view-in-github",
        "colab_type": "text"
      },
      "source": [
        "<a href=\"https://colab.research.google.com/github/ameyvadnere/CS418-Statistical-Pattern-Recognition-Lab/blob/master/Assn1_Q1b.ipynb\" target=\"_parent\"><img src=\"https://colab.research.google.com/assets/colab-badge.svg\" alt=\"Open In Colab\"/></a>"
      ]
    },
    {
      "cell_type": "code",
      "metadata": {
        "id": "Rdcvqy-_rDRf"
      },
      "source": [
        "from keras.datasets import mnist\r\n",
        "import numpy as np\r\n",
        "from tqdm.notebook import tqdm\r\n",
        "import seaborn as sns\r\n",
        "from scipy.stats import multivariate_normal\r\n",
        "import matplotlib.pyplot as plt"
      ],
      "execution_count": 4,
      "outputs": []
    },
    {
      "cell_type": "code",
      "metadata": {
        "id": "CpkPSYiBrQPS"
      },
      "source": [
        "(train_X, train_y), (test_X, test_y) = mnist.load_data()\r\n",
        "train_X = train_X.reshape(60000, 784)/255.\r\n",
        "test_X = test_X.reshape(10000, 784)/255."
      ],
      "execution_count": 5,
      "outputs": []
    },
    {
      "cell_type": "code",
      "metadata": {
        "id": "FE720MHsrRPV"
      },
      "source": [
        "def compute_ratepars(train_X, train_y, classes=list(range(10))):\r\n",
        "    ratepars = []\r\n",
        "    priors = []\r\n",
        "    k = train_X.shape[1]\r\n",
        "\r\n",
        "    for i in tqdm(range(len(classes))):\r\n",
        "        filter = np.where(train_y == classes[i])\r\n",
        "        X = train_X[filter]\r\n",
        "\r\n",
        "        ratepar = 1/(np.mean(X, axis=0) + 1e-16)\r\n",
        "        count = X.shape[0]\r\n",
        "\r\n",
        "        ratepars.append(ratepar)\r\n",
        "        priors.append(count/train_X.shape[0])\r\n",
        "\r\n",
        "    return ratepars, priors"
      ],
      "execution_count": 6,
      "outputs": []
    },
    {
      "cell_type": "code",
      "metadata": {
        "colab": {
          "base_uri": "https://localhost:8080/",
          "height": 66,
          "referenced_widgets": [
            "3c4811daf11a49a5a27b25c48947cbe5",
            "af7233b0b25540cdb1348c4855a8c5bc",
            "b7af4589a6164c20b44c94943fac9256",
            "c9d53b09b19e44aab808ff00ef48b4bb",
            "661b9cef2efa4e2d82c39ac07015433a",
            "924f5e3e864f44619532af5b70125b50",
            "4a42c36e7e394bd7a935eb8db9e4e0d4",
            "ee3bd15cc81b4ab19558876ea2eac05b"
          ]
        },
        "id": "UQNf0RKerWKm",
        "outputId": "2caf878d-90bc-4a69-fa6c-c67e071e9874"
      },
      "source": [
        "ratepars, priors = compute_ratepars(train_X, train_y, classes=list(range(10)))"
      ],
      "execution_count": 7,
      "outputs": [
        {
          "output_type": "display_data",
          "data": {
            "application/vnd.jupyter.widget-view+json": {
              "model_id": "3c4811daf11a49a5a27b25c48947cbe5",
              "version_minor": 0,
              "version_major": 2
            },
            "text/plain": [
              "HBox(children=(FloatProgress(value=0.0, max=10.0), HTML(value='')))"
            ]
          },
          "metadata": {
            "tags": []
          }
        },
        {
          "output_type": "stream",
          "text": [
            "\n"
          ],
          "name": "stdout"
        }
      ]
    },
    {
      "cell_type": "code",
      "metadata": {
        "id": "hGoBqLhksdeB"
      },
      "source": [
        "def show_ratepars(ratepars):\r\n",
        "    fig = plt.figure(figsize=(10,10))\r\n",
        "    fig.subplots_adjust(hspace=0.1, wspace=0.1)\r\n",
        "    for i in range(len(ratepars)):\r\n",
        "        \r\n",
        "        ax = fig.add_subplot(4, 3, i+1, xticks=[], yticks=[])\r\n",
        "        ax.imshow(ratepars[i].reshape(28,28))\r\n",
        "    \r\n",
        "    plt.show()"
      ],
      "execution_count": 8,
      "outputs": []
    },
    {
      "cell_type": "code",
      "metadata": {
        "colab": {
          "base_uri": "https://localhost:8080/",
          "height": 578
        },
        "id": "H4UIqEiusjuE",
        "outputId": "c96c3be8-a8b1-4029-a821-36913b9de9bf"
      },
      "source": [
        "show_ratepars(ratepars)"
      ],
      "execution_count": 9,
      "outputs": [
        {
          "output_type": "display_data",
          "data": {
            "image/png": "[encoded data removed]",
            "text/plain": [
              "<Figure size 720x720 with 10 Axes>"
            ]
          },
          "metadata": {
            "tags": []
          }
        }
      ]
    },
    {
      "cell_type": "code",
      "metadata": {
        "id": "SMm8NqdUs0OX"
      },
      "source": [
        "def posterior(X, i):\r\n",
        "\r\n",
        "    ratepar, prior = ratepars[i], priors[i]    \r\n",
        "    return np.log(np.sum(ratepar)) - np.matmul(X, ratepar)\r\n",
        "\r\n",
        "\r\n"
      ],
      "execution_count": 10,
      "outputs": []
    },
    {
      "cell_type": "code",
      "metadata": {
        "id": "qf4VHmfItHyU"
      },
      "source": [
        "def predict(X):\r\n",
        "    posteriors = []\r\n",
        "    for i in range(0,10):\r\n",
        "        probs = posterior(X, i)\r\n",
        "        posteriors.append(probs)\r\n",
        "    \r\n",
        "    return np.argmax(posteriors, axis=0)\r\n"
      ],
      "execution_count": 13,
      "outputs": []
    },
    {
      "cell_type": "code",
      "metadata": {
        "id": "3igid9HVtJdB"
      },
      "source": [
        "preds = predict(test_X)"
      ],
      "execution_count": 16,
      "outputs": []
    },
    {
      "cell_type": "code",
      "metadata": {
        "colab": {
          "base_uri": "https://localhost:8080/"
        },
        "id": "p9tm_yyttPYD",
        "outputId": "87f30547-1413-45f3-8456-c09fb2f5692c"
      },
      "source": [
        "print(np.mean(preds == test_y))"
      ],
      "execution_count": 17,
      "outputs": [
        {
          "output_type": "stream",
          "text": [
            "0.7181\n"
          ],
          "name": "stdout"
        }
      ]
    },
    {
      "cell_type": "code",
      "metadata": {
        "colab": {
          "base_uri": "https://localhost:8080/",
          "height": 609
        },
        "id": "YLkCbOzYuQL9",
        "outputId": "4619c029-4250-4f82-8b2b-65e06a4a6ae5"
      },
      "source": [
        "import matplotlib.pyplot as plt\r\n",
        "from sklearn.metrics import confusion_matrix\r\n",
        "cm = confusion_matrix(test_y, preds)\r\n",
        "np.unique(preds)\r\n",
        "plt.figure(figsize=(10,10))\r\n",
        "sns.heatmap(cm, annot=True, fmt='.0f')"
      ],
      "execution_count": 18,
      "outputs": [
        {
          "output_type": "execute_result",
          "data": {
            "text/plain": [
              "<matplotlib.axes._subplots.AxesSubplot at 0x7ff1799e2f98>"
            ]
          },
          "metadata": {
            "tags": []
          },
          "execution_count": 18
        },
        {
          "output_type": "display_data",
          "data": {
            "image/png": "[encoded data removed]",
            "text/plain": [
              "<Figure size 720x720 with 2 Axes>"
            ]
          },
          "metadata": {
            "tags": [],
            "needs_background": "light"
          }
        }
      ]
    }
  ]
}