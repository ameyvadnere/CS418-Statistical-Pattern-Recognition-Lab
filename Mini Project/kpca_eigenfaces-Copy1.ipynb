{
 "cells": [
  {
   "cell_type": "code",
   "execution_count": 1,
   "id": "external-granny",
   "metadata": {},
   "outputs": [],
   "source": [
    "import numpy as np\n",
    "import pandas as pd\n",
    "from sklearn.datasets import fetch_olivetti_faces, load_digits\n",
    "from sklearn.linear_model import LogisticRegression\n",
    "from sklearn.preprocessing import StandardScaler\n",
    "from sklearn.neighbors import KNeighborsClassifier\n",
    "from sklearn.pipeline import Pipeline\n",
    "from sklearn.model_selection import train_test_split\n",
    "from skimage.transform import resize\n",
    "from kernel_pca import KernelPCA\n",
    "from sklearn.svm import LinearSVC\n",
    "from PIL import Image"
   ]
  },
  {
   "cell_type": "code",
   "execution_count": 2,
   "id": "radical-network",
   "metadata": {},
   "outputs": [
    {
     "name": "stdout",
     "output_type": "stream",
     "text": [
      "(1797, 64) (1797,)\n"
     ]
    },
    {
     "data": {
      "image/png": "[encoded data removed]",
      "text/plain": [
       "<Figure size 432x288 with 20 Axes>"
      ]
     },
     "metadata": {},
     "output_type": "display_data"
    }
   ],
   "source": [
    "def getData(name):\n",
    "    if name == 'olivetti':\n",
    "        X, y =  fetch_olivetti_faces(return_X_y=True)\n",
    "        img_size = 64\n",
    "        pca_dims = [10, 25, 50, 100, 300]\n",
    "    elif name == 'digits':\n",
    "        X, y = load_digits(return_X_y=True)\n",
    "        img_size = 8\n",
    "        pca_dims = [5, 10, 25, 40, 64]\n",
    "    else:\n",
    "        print('Error: olivetti or digits dataset is only supported')\n",
    "        return None\n",
    "    \n",
    "    print(X.shape, y.shape)\n",
    "    X_train, X_test, y_train, y_test = train_test_split(X, y, stratify=y, test_size=.2, random_state=0)\n",
    "    \n",
    "    fig, axs = plt.subplots(4, 5)\n",
    "    for i in range(20):\n",
    "        ax = axs[i//5, i%5]\n",
    "        ax.imshow(X[10*i].reshape((img_size, img_size)), cmap='gray')\n",
    "        ax.axis('off')\n",
    "    plt.tight_layout(pad=0)\n",
    "\n",
    "    return pca_dims, img_size, X_train, X_test, y_train, y_test\n",
    "\n",
    "pca_dims, img_size, X_train, X_test, y_train, y_test = getData('digits')"
   ]
  },
  {
   "cell_type": "code",
   "execution_count": 3,
   "id": "smart-walker",
   "metadata": {},
   "outputs": [],
   "source": [
    "def score(model):\n",
    "    # leave one out strategy\n",
    "    model.fit(X_train, y_train)\n",
    "    return {\n",
    "        'train_acc' : model.score(X_train, y_train),\n",
    "        'test_acc'  : model.score(X_test, y_test)\n",
    "    }"
   ]
  },
  {
   "cell_type": "code",
   "execution_count": 4,
   "id": "internal-boundary",
   "metadata": {},
   "outputs": [
    {
     "name": "stdout",
     "output_type": "stream",
     "text": [
      "Direct PCA\n"
     ]
    },
    {
     "data": {
      "text/html": [
       "<div>\n",
       "<style scoped>\n",
       "    .dataframe tbody tr th:only-of-type {\n",
       "        vertical-align: middle;\n",
       "    }\n",
       "\n",
       "    .dataframe tbody tr th {\n",
       "        vertical-align: top;\n",
       "    }\n",
       "\n",
       "    .dataframe thead th {\n",
       "        text-align: right;\n",
       "    }\n",
       "</style>\n",
       "<table border=\"1\" class=\"dataframe\">\n",
       "  <thead>\n",
       "    <tr style=\"text-align: right;\">\n",
       "      <th></th>\n",
       "      <th>dims</th>\n",
       "      <th>train_acc</th>\n",
       "      <th>test_acc</th>\n",
       "    </tr>\n",
       "  </thead>\n",
       "  <tbody>\n",
       "    <tr>\n",
       "      <th>0</th>\n",
       "      <td>5</td>\n",
       "      <td>1.0</td>\n",
       "      <td>0.900000</td>\n",
       "    </tr>\n",
       "    <tr>\n",
       "      <th>1</th>\n",
       "      <td>10</td>\n",
       "      <td>1.0</td>\n",
       "      <td>0.977778</td>\n",
       "    </tr>\n",
       "    <tr>\n",
       "      <th>2</th>\n",
       "      <td>25</td>\n",
       "      <td>1.0</td>\n",
       "      <td>0.972222</td>\n",
       "    </tr>\n",
       "    <tr>\n",
       "      <th>3</th>\n",
       "      <td>40</td>\n",
       "      <td>1.0</td>\n",
       "      <td>0.975000</td>\n",
       "    </tr>\n",
       "    <tr>\n",
       "      <th>4</th>\n",
       "      <td>64</td>\n",
       "      <td>1.0</td>\n",
       "      <td>0.938889</td>\n",
       "    </tr>\n",
       "  </tbody>\n",
       "</table>\n",
       "</div>"
      ],
      "text/plain": [
       "   dims  train_acc  test_acc\n",
       "0     5        1.0  0.900000\n",
       "1    10        1.0  0.977778\n",
       "2    25        1.0  0.972222\n",
       "3    40        1.0  0.975000\n",
       "4    64        1.0  0.938889"
      ]
     },
     "execution_count": 4,
     "metadata": {},
     "output_type": "execute_result"
    }
   ],
   "source": [
    "errors = pd.DataFrame()\n",
    "\n",
    "print(\"Direct PCA\")\n",
    "for dims in pca_dims:\n",
    "    pca = Pipeline([\n",
    "        ('pca', KernelPCA(dims, kernel='None')),\n",
    "        ('scalar', StandardScaler()),\n",
    "        ('knn', KNeighborsClassifier(n_neighbors=1))\n",
    "    ])\n",
    "    errors = errors.append(score(pca), ignore_index=True)\n",
    "    \n",
    "errors['dims'] = pca_dims\n",
    "errors['dims train_acc test_acc'.split()]"
   ]
  },
  {
   "cell_type": "code",
   "execution_count": 5,
   "id": "touched-might",
   "metadata": {},
   "outputs": [
    {
     "name": "stdout",
     "output_type": "stream",
     "text": [
      "Kernel PCA with quadratic kernel\n"
     ]
    },
    {
     "data": {
      "text/html": [
       "<div>\n",
       "<style scoped>\n",
       "    .dataframe tbody tr th:only-of-type {\n",
       "        vertical-align: middle;\n",
       "    }\n",
       "\n",
       "    .dataframe tbody tr th {\n",
       "        vertical-align: top;\n",
       "    }\n",
       "\n",
       "    .dataframe thead th {\n",
       "        text-align: right;\n",
       "    }\n",
       "</style>\n",
       "<table border=\"1\" class=\"dataframe\">\n",
       "  <thead>\n",
       "    <tr style=\"text-align: right;\">\n",
       "      <th></th>\n",
       "      <th>dims</th>\n",
       "      <th>train_acc</th>\n",
       "      <th>test_acc</th>\n",
       "    </tr>\n",
       "  </thead>\n",
       "  <tbody>\n",
       "    <tr>\n",
       "      <th>0</th>\n",
       "      <td>5</td>\n",
       "      <td>1.0</td>\n",
       "      <td>0.855556</td>\n",
       "    </tr>\n",
       "    <tr>\n",
       "      <th>1</th>\n",
       "      <td>10</td>\n",
       "      <td>1.0</td>\n",
       "      <td>0.963889</td>\n",
       "    </tr>\n",
       "    <tr>\n",
       "      <th>2</th>\n",
       "      <td>25</td>\n",
       "      <td>1.0</td>\n",
       "      <td>0.983333</td>\n",
       "    </tr>\n",
       "    <tr>\n",
       "      <th>3</th>\n",
       "      <td>40</td>\n",
       "      <td>1.0</td>\n",
       "      <td>0.980556</td>\n",
       "    </tr>\n",
       "    <tr>\n",
       "      <th>4</th>\n",
       "      <td>64</td>\n",
       "      <td>1.0</td>\n",
       "      <td>0.983333</td>\n",
       "    </tr>\n",
       "  </tbody>\n",
       "</table>\n",
       "</div>"
      ],
      "text/plain": [
       "   dims  train_acc  test_acc\n",
       "0     5        1.0  0.855556\n",
       "1    10        1.0  0.963889\n",
       "2    25        1.0  0.983333\n",
       "3    40        1.0  0.980556\n",
       "4    64        1.0  0.983333"
      ]
     },
     "execution_count": 5,
     "metadata": {},
     "output_type": "execute_result"
    }
   ],
   "source": [
    "errors = pd.DataFrame()\n",
    "\n",
    "print(\"Kernel PCA with quadratic kernel\")\n",
    "for dims in pca_dims:\n",
    "    pca = Pipeline([\n",
    "        ('pca', KernelPCA(dims, kernel='poly', deg=2)),\n",
    "        ('scalar', StandardScaler()),\n",
    "        ('knn', KNeighborsClassifier(n_neighbors=1))\n",
    "    ])\n",
    "    errors = errors.append(score(pca), ignore_index=True)\n",
    "    \n",
    "errors['dims'] = pca_dims\n",
    "errors['dims train_acc test_acc'.split()]"
   ]
  },
  {
   "cell_type": "code",
   "execution_count": 6,
   "id": "civic-origin",
   "metadata": {},
   "outputs": [
    {
     "name": "stdout",
     "output_type": "stream",
     "text": [
      "Kernel PCA with cubic kernel\n"
     ]
    },
    {
     "data": {
      "text/html": [
       "<div>\n",
       "<style scoped>\n",
       "    .dataframe tbody tr th:only-of-type {\n",
       "        vertical-align: middle;\n",
       "    }\n",
       "\n",
       "    .dataframe tbody tr th {\n",
       "        vertical-align: top;\n",
       "    }\n",
       "\n",
       "    .dataframe thead th {\n",
       "        text-align: right;\n",
       "    }\n",
       "</style>\n",
       "<table border=\"1\" class=\"dataframe\">\n",
       "  <thead>\n",
       "    <tr style=\"text-align: right;\">\n",
       "      <th></th>\n",
       "      <th>dims</th>\n",
       "      <th>train_acc</th>\n",
       "      <th>test_acc</th>\n",
       "    </tr>\n",
       "  </thead>\n",
       "  <tbody>\n",
       "    <tr>\n",
       "      <th>0</th>\n",
       "      <td>5</td>\n",
       "      <td>1.0</td>\n",
       "      <td>0.863889</td>\n",
       "    </tr>\n",
       "    <tr>\n",
       "      <th>1</th>\n",
       "      <td>10</td>\n",
       "      <td>1.0</td>\n",
       "      <td>0.961111</td>\n",
       "    </tr>\n",
       "    <tr>\n",
       "      <th>2</th>\n",
       "      <td>25</td>\n",
       "      <td>1.0</td>\n",
       "      <td>0.972222</td>\n",
       "    </tr>\n",
       "    <tr>\n",
       "      <th>3</th>\n",
       "      <td>40</td>\n",
       "      <td>1.0</td>\n",
       "      <td>0.983333</td>\n",
       "    </tr>\n",
       "    <tr>\n",
       "      <th>4</th>\n",
       "      <td>64</td>\n",
       "      <td>1.0</td>\n",
       "      <td>0.988889</td>\n",
       "    </tr>\n",
       "  </tbody>\n",
       "</table>\n",
       "</div>"
      ],
      "text/plain": [
       "   dims  train_acc  test_acc\n",
       "0     5        1.0  0.863889\n",
       "1    10        1.0  0.961111\n",
       "2    25        1.0  0.972222\n",
       "3    40        1.0  0.983333\n",
       "4    64        1.0  0.988889"
      ]
     },
     "execution_count": 6,
     "metadata": {},
     "output_type": "execute_result"
    }
   ],
   "source": [
    "errors = pd.DataFrame()\n",
    "\n",
    "print(\"Kernel PCA with cubic kernel\")\n",
    "for dims in pca_dims:\n",
    "    pca = Pipeline([\n",
    "        ('pca', KernelPCA(dims, kernel='poly', deg=3)),\n",
    "        ('scalar', StandardScaler()),\n",
    "        ('knn', KNeighborsClassifier(n_neighbors=1))\n",
    "    ])\n",
    "    errors = errors.append(score(pca), ignore_index=True)\n",
    "    \n",
    "errors['dims'] = pca_dims\n",
    "errors['dims train_acc test_acc'.split()]"
   ]
  },
  {
   "cell_type": "code",
   "execution_count": 7,
   "id": "historical-payroll",
   "metadata": {},
   "outputs": [
    {
     "name": "stdout",
     "output_type": "stream",
     "text": [
      "Kernel PCA with deg=4 kernel\n"
     ]
    },
    {
     "data": {
      "text/html": [
       "<div>\n",
       "<style scoped>\n",
       "    .dataframe tbody tr th:only-of-type {\n",
       "        vertical-align: middle;\n",
       "    }\n",
       "\n",
       "    .dataframe tbody tr th {\n",
       "        vertical-align: top;\n",
       "    }\n",
       "\n",
       "    .dataframe thead th {\n",
       "        text-align: right;\n",
       "    }\n",
       "</style>\n",
       "<table border=\"1\" class=\"dataframe\">\n",
       "  <thead>\n",
       "    <tr style=\"text-align: right;\">\n",
       "      <th></th>\n",
       "      <th>dims</th>\n",
       "      <th>train_acc</th>\n",
       "      <th>test_acc</th>\n",
       "    </tr>\n",
       "  </thead>\n",
       "  <tbody>\n",
       "    <tr>\n",
       "      <th>0</th>\n",
       "      <td>5</td>\n",
       "      <td>1.0</td>\n",
       "      <td>0.847222</td>\n",
       "    </tr>\n",
       "    <tr>\n",
       "      <th>1</th>\n",
       "      <td>10</td>\n",
       "      <td>1.0</td>\n",
       "      <td>0.963889</td>\n",
       "    </tr>\n",
       "    <tr>\n",
       "      <th>2</th>\n",
       "      <td>25</td>\n",
       "      <td>1.0</td>\n",
       "      <td>0.966667</td>\n",
       "    </tr>\n",
       "    <tr>\n",
       "      <th>3</th>\n",
       "      <td>40</td>\n",
       "      <td>1.0</td>\n",
       "      <td>0.972222</td>\n",
       "    </tr>\n",
       "    <tr>\n",
       "      <th>4</th>\n",
       "      <td>64</td>\n",
       "      <td>1.0</td>\n",
       "      <td>0.969444</td>\n",
       "    </tr>\n",
       "  </tbody>\n",
       "</table>\n",
       "</div>"
      ],
      "text/plain": [
       "   dims  train_acc  test_acc\n",
       "0     5        1.0  0.847222\n",
       "1    10        1.0  0.963889\n",
       "2    25        1.0  0.966667\n",
       "3    40        1.0  0.972222\n",
       "4    64        1.0  0.969444"
      ]
     },
     "execution_count": 7,
     "metadata": {},
     "output_type": "execute_result"
    }
   ],
   "source": [
    "errors = pd.DataFrame()\n",
    "\n",
    "print(\"Kernel PCA with deg=4 kernel\")\n",
    "for dims in pca_dims:\n",
    "    pca = Pipeline([\n",
    "        ('pca', KernelPCA(dims, kernel='poly', deg=4)),\n",
    "        ('scalar', StandardScaler()),\n",
    "        ('knn', KNeighborsClassifier(n_neighbors=1))\n",
    "    ])\n",
    "    errors = errors.append(score(pca), ignore_index=True)\n",
    "    \n",
    "errors['dims'] = pca_dims\n",
    "errors['dims train_acc test_acc'.split()]"
   ]
  },
  {
   "cell_type": "code",
   "execution_count": 8,
   "id": "environmental-student",
   "metadata": {},
   "outputs": [
    {
     "name": "stdout",
     "output_type": "stream",
     "text": [
      "Kernel PCA with RBF 5 kernel\n"
     ]
    },
    {
     "data": {
      "text/html": [
       "<div>\n",
       "<style scoped>\n",
       "    .dataframe tbody tr th:only-of-type {\n",
       "        vertical-align: middle;\n",
       "    }\n",
       "\n",
       "    .dataframe tbody tr th {\n",
       "        vertical-align: top;\n",
       "    }\n",
       "\n",
       "    .dataframe thead th {\n",
       "        text-align: right;\n",
       "    }\n",
       "</style>\n",
       "<table border=\"1\" class=\"dataframe\">\n",
       "  <thead>\n",
       "    <tr style=\"text-align: right;\">\n",
       "      <th></th>\n",
       "      <th>dims</th>\n",
       "      <th>train_acc</th>\n",
       "      <th>test_acc</th>\n",
       "    </tr>\n",
       "  </thead>\n",
       "  <tbody>\n",
       "    <tr>\n",
       "      <th>0</th>\n",
       "      <td>5</td>\n",
       "      <td>1.0</td>\n",
       "      <td>0.1</td>\n",
       "    </tr>\n",
       "    <tr>\n",
       "      <th>1</th>\n",
       "      <td>10</td>\n",
       "      <td>1.0</td>\n",
       "      <td>0.1</td>\n",
       "    </tr>\n",
       "    <tr>\n",
       "      <th>2</th>\n",
       "      <td>25</td>\n",
       "      <td>1.0</td>\n",
       "      <td>0.1</td>\n",
       "    </tr>\n",
       "    <tr>\n",
       "      <th>3</th>\n",
       "      <td>40</td>\n",
       "      <td>1.0</td>\n",
       "      <td>0.1</td>\n",
       "    </tr>\n",
       "    <tr>\n",
       "      <th>4</th>\n",
       "      <td>64</td>\n",
       "      <td>1.0</td>\n",
       "      <td>0.1</td>\n",
       "    </tr>\n",
       "  </tbody>\n",
       "</table>\n",
       "</div>"
      ],
      "text/plain": [
       "   dims  train_acc  test_acc\n",
       "0     5        1.0       0.1\n",
       "1    10        1.0       0.1\n",
       "2    25        1.0       0.1\n",
       "3    40        1.0       0.1\n",
       "4    64        1.0       0.1"
      ]
     },
     "execution_count": 8,
     "metadata": {},
     "output_type": "execute_result"
    }
   ],
   "source": [
    "errors = pd.DataFrame()\n",
    "\n",
    "print(\"Kernel PCA with RBF 5 kernel\")\n",
    "for dims in pca_dims:\n",
    "    pca = Pipeline([\n",
    "        ('pca', KernelPCA(dims, kernel='rbf', gamma=5)),\n",
    "        ('scalar', StandardScaler()),\n",
    "        ('knn', KNeighborsClassifier(n_neighbors=1))\n",
    "    ])\n",
    "    errors = errors.append(score(pca), ignore_index=True)\n",
    "    \n",
    "errors['dims'] = pca_dims\n",
    "errors['dims train_acc test_acc'.split()]"
   ]
  },
  {
   "cell_type": "code",
   "execution_count": 9,
   "id": "historic-turtle",
   "metadata": {},
   "outputs": [
    {
     "name": "stdout",
     "output_type": "stream",
     "text": [
      "Kernel PCA with RBF 1e-3 kernel\n"
     ]
    },
    {
     "data": {
      "text/html": [
       "<div>\n",
       "<style scoped>\n",
       "    .dataframe tbody tr th:only-of-type {\n",
       "        vertical-align: middle;\n",
       "    }\n",
       "\n",
       "    .dataframe tbody tr th {\n",
       "        vertical-align: top;\n",
       "    }\n",
       "\n",
       "    .dataframe thead th {\n",
       "        text-align: right;\n",
       "    }\n",
       "</style>\n",
       "<table border=\"1\" class=\"dataframe\">\n",
       "  <thead>\n",
       "    <tr style=\"text-align: right;\">\n",
       "      <th></th>\n",
       "      <th>dims</th>\n",
       "      <th>train_acc</th>\n",
       "      <th>test_acc</th>\n",
       "    </tr>\n",
       "  </thead>\n",
       "  <tbody>\n",
       "    <tr>\n",
       "      <th>0</th>\n",
       "      <td>5</td>\n",
       "      <td>1.0</td>\n",
       "      <td>0.863889</td>\n",
       "    </tr>\n",
       "    <tr>\n",
       "      <th>1</th>\n",
       "      <td>10</td>\n",
       "      <td>1.0</td>\n",
       "      <td>0.958333</td>\n",
       "    </tr>\n",
       "    <tr>\n",
       "      <th>2</th>\n",
       "      <td>25</td>\n",
       "      <td>1.0</td>\n",
       "      <td>0.977778</td>\n",
       "    </tr>\n",
       "    <tr>\n",
       "      <th>3</th>\n",
       "      <td>40</td>\n",
       "      <td>1.0</td>\n",
       "      <td>0.986111</td>\n",
       "    </tr>\n",
       "    <tr>\n",
       "      <th>4</th>\n",
       "      <td>64</td>\n",
       "      <td>1.0</td>\n",
       "      <td>0.986111</td>\n",
       "    </tr>\n",
       "  </tbody>\n",
       "</table>\n",
       "</div>"
      ],
      "text/plain": [
       "   dims  train_acc  test_acc\n",
       "0     5        1.0  0.863889\n",
       "1    10        1.0  0.958333\n",
       "2    25        1.0  0.977778\n",
       "3    40        1.0  0.986111\n",
       "4    64        1.0  0.986111"
      ]
     },
     "execution_count": 9,
     "metadata": {},
     "output_type": "execute_result"
    }
   ],
   "source": [
    "errors = pd.DataFrame()\n",
    "\n",
    "print(\"Kernel PCA with RBF 1e-3 kernel\")\n",
    "for dims in pca_dims:\n",
    "    pca = Pipeline([\n",
    "        ('pca', KernelPCA(dims, kernel='rbf', gamma=1e-3)),\n",
    "        ('scalar', StandardScaler()),\n",
    "        ('knn', KNeighborsClassifier(n_neighbors=1))\n",
    "    ])\n",
    "    errors = errors.append(score(pca), ignore_index=True)\n",
    "    \n",
    "errors['dims'] = pca_dims\n",
    "errors['dims train_acc test_acc'.split()]"
   ]
  },
  {
   "cell_type": "code",
   "execution_count": 10,
   "id": "british-understanding",
   "metadata": {},
   "outputs": [
    {
     "name": "stdout",
     "output_type": "stream",
     "text": [
      "                  Direct PCA EigenDigits\n"
     ]
    },
    {
     "data": {
      "image/png": "[encoded data removed]",
      "text/plain": [
       "<Figure size 720x720 with 25 Axes>"
      ]
     },
     "metadata": {},
     "output_type": "display_data"
    }
   ],
   "source": [
    "model1 = Pipeline([\n",
    "        ('pca', KernelPCA(25, kernel='None')),\n",
    "        ('scalar', StandardScaler()),\n",
    "        ('knn', KNeighborsClassifier(n_neighbors=1))\n",
    "    ])\n",
    "score(model1)\n",
    "\n",
    "V = model1.steps[0][1].transform(np.eye(img_size*img_size))\n",
    "fig, axs = plt.subplots(5, 5, figsize=(10, 10))\n",
    "\n",
    "for i in range(25):\n",
    "    ax = axs[i//5, i%5]\n",
    "    ax.imshow(V.T[i].reshape((img_size, img_size)), cmap='gray_r')\n",
    "    ax.axis('off')\n",
    "print(\"                  Direct PCA EigenDigits\")"
   ]
  },
  {
   "cell_type": "code",
   "execution_count": 11,
   "id": "sensitive-sleeping",
   "metadata": {},
   "outputs": [
    {
     "name": "stdout",
     "output_type": "stream",
     "text": [
      "          Polynomial(deg=2) Kernel PCA EigenDigits\n"
     ]
    },
    {
     "data": {
      "image/png": "[encoded data removed]",
      "text/plain": [
       "<Figure size 720x720 with 25 Axes>"
      ]
     },
     "metadata": {},
     "output_type": "display_data"
    }
   ],
   "source": [
    "model2 = Pipeline([\n",
    "        ('pca', KernelPCA(25, kernel='poly', deg=2)),\n",
    "        ('scalar', StandardScaler()),\n",
    "        ('knn', KNeighborsClassifier(n_neighbors=1))\n",
    "    ])\n",
    "score(model2)\n",
    "\n",
    "V = model2.steps[0][1].transform(np.eye(img_size*img_size))\n",
    "fig, axs = plt.subplots(5, 5, figsize=(10, 10))\n",
    "\n",
    "for i in range(25):\n",
    "    ax = axs[i//5, i%5]\n",
    "    ax.imshow(V.T[i].reshape((img_size, img_size)), cmap='gray_r')\n",
    "    ax.axis('off')\n",
    "\n",
    "print(\"          Polynomial(deg=2) Kernel PCA EigenDigits\")"
   ]
  },
  {
   "cell_type": "code",
   "execution_count": 12,
   "id": "quality-screening",
   "metadata": {},
   "outputs": [
    {
     "name": "stdout",
     "output_type": "stream",
     "text": [
      "           RBF(gamma=0.001)Kernel PCA EigenDigits\n"
     ]
    },
    {
     "data": {
      "image/png": "[encoded data removed]",
      "text/plain": [
       "<Figure size 720x720 with 25 Axes>"
      ]
     },
     "metadata": {},
     "output_type": "display_data"
    }
   ],
   "source": [
    "model3 = Pipeline([\n",
    "        ('pca', KernelPCA(25, kernel='rbf', gamma=1e-3)),\n",
    "        ('scalar', StandardScaler()),\n",
    "        ('knn', KNeighborsClassifier(n_neighbors=1))\n",
    "    ])\n",
    "score(model3)\n",
    "\n",
    "V = model3.steps[0][1].transform(np.eye(img_size * img_size))\n",
    "fig, axs = plt.subplots(5, 5, figsize=(10, 10))\n",
    "\n",
    "for i in range(25):\n",
    "    ax = axs[i//5, i%5]\n",
    "    ax.imshow(V.T[i].reshape((img_size, img_size)), cmap='gray_r')\n",
    "    ax.axis('off')\n",
    "\n",
    "print(\"           RBF(gamma=0.001)Kernel PCA EigenDigits\")"
   ]
  },
  {
   "cell_type": "code",
   "execution_count": 13,
   "id": "ongoing-composite",
   "metadata": {},
   "outputs": [
    {
     "data": {
      "image/png": "[encoded data removed]",
      "text/plain": [
       "<Figure size 720x720 with 1 Axes>"
      ]
     },
     "metadata": {},
     "output_type": "display_data"
    }
   ],
   "source": [
    "plt.figure(figsize=(10,10))\n",
    "d = np.diagonal(model1.steps[0][1].D)[::-1]\n",
    "plt.plot(d.cumsum()/d.sum(), label='Direct PCA')\n",
    "\n",
    "d = np.diagonal(model2.steps[0][1].D)[::-1]\n",
    "plt.plot(d.cumsum()/d.sum(), label='Kernel PCA deg 2')\n",
    "\n",
    "d = np.diagonal(model3.steps[0][1].D)[::-1]\n",
    "plt.plot(d.cumsum()/d.sum(), label='Kernel PCA gamma 0.001')\n",
    "\n",
    "plt.title(\"Cumulative plot of explained variance\", fontsize=18)\n",
    "plt.legend();"
   ]
  },
  {
   "cell_type": "code",
   "execution_count": null,
   "id": "pleasant-payroll",
   "metadata": {},
   "outputs": [],
   "source": []
  }
 ],
 "metadata": {
  "kernelspec": {
   "display_name": "Python 3",
   "language": "python",
   "name": "python3"
  },
  "language_info": {
   "codemirror_mode": {
    "name": "ipython",
    "version": 3
   },
   "file_extension": ".py",
   "mimetype": "text/x-python",
   "name": "python",
   "nbconvert_exporter": "python",
   "pygments_lexer": "ipython3",
   "version": "3.7.9"
  }
 },
 "nbformat": 4,
 "nbformat_minor": 5
}
