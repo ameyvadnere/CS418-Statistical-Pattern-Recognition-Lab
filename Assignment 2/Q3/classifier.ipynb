{
 "cells": [
  {
   "cell_type": "code",
   "execution_count": 1,
   "metadata": {},
   "outputs": [],
   "source": [
    "import warnings\n",
    "from sklearn.model_selection import train_test_split\n",
    "from sklearn.naive_bayes import GaussianNB\n",
    "from sklearn.metrics import confusion_matrix\n",
    "warnings.filterwarnings('ignore')"
   ]
  },
  {
   "cell_type": "markdown",
   "metadata": {},
   "source": [
    "## Load data"
   ]
  },
  {
   "cell_type": "code",
   "execution_count": 2,
   "metadata": {},
   "outputs": [],
   "source": [
    "NUM_CLASSES = 4\n",
    "CLASSES_TO_KEEP = [0, 1, 2, 3]"
   ]
  },
  {
   "cell_type": "code",
   "execution_count": 3,
   "metadata": {},
   "outputs": [
    {
     "data": {
      "text/html": [
       "<div>\n",
       "<style scoped>\n",
       "    .dataframe tbody tr th:only-of-type {\n",
       "        vertical-align: middle;\n",
       "    }\n",
       "\n",
       "    .dataframe tbody tr th {\n",
       "        vertical-align: top;\n",
       "    }\n",
       "\n",
       "    .dataframe thead th {\n",
       "        text-align: right;\n",
       "    }\n",
       "</style>\n",
       "<table border=\"1\" class=\"dataframe\">\n",
       "  <thead>\n",
       "    <tr style=\"text-align: right;\">\n",
       "      <th></th>\n",
       "      <th>MedInc</th>\n",
       "      <th>HouseAge</th>\n",
       "      <th>AveRooms</th>\n",
       "      <th>AveBedrms</th>\n",
       "      <th>Population</th>\n",
       "      <th>AveOccup</th>\n",
       "      <th>Latitude</th>\n",
       "      <th>Longitude</th>\n",
       "      <th>target</th>\n",
       "    </tr>\n",
       "  </thead>\n",
       "  <tbody>\n",
       "    <tr>\n",
       "      <th>0</th>\n",
       "      <td>8.3252</td>\n",
       "      <td>41.0</td>\n",
       "      <td>6.984127</td>\n",
       "      <td>1.023810</td>\n",
       "      <td>322.0</td>\n",
       "      <td>2.555556</td>\n",
       "      <td>37.88</td>\n",
       "      <td>-122.23</td>\n",
       "      <td>3</td>\n",
       "    </tr>\n",
       "    <tr>\n",
       "      <th>1</th>\n",
       "      <td>8.3014</td>\n",
       "      <td>21.0</td>\n",
       "      <td>6.238137</td>\n",
       "      <td>0.971880</td>\n",
       "      <td>2401.0</td>\n",
       "      <td>2.109842</td>\n",
       "      <td>37.86</td>\n",
       "      <td>-122.22</td>\n",
       "      <td>2</td>\n",
       "    </tr>\n",
       "    <tr>\n",
       "      <th>2</th>\n",
       "      <td>5.6431</td>\n",
       "      <td>52.0</td>\n",
       "      <td>5.817352</td>\n",
       "      <td>1.073059</td>\n",
       "      <td>558.0</td>\n",
       "      <td>2.547945</td>\n",
       "      <td>37.85</td>\n",
       "      <td>-122.25</td>\n",
       "      <td>2</td>\n",
       "    </tr>\n",
       "    <tr>\n",
       "      <th>3</th>\n",
       "      <td>3.8462</td>\n",
       "      <td>52.0</td>\n",
       "      <td>6.281853</td>\n",
       "      <td>1.081081</td>\n",
       "      <td>565.0</td>\n",
       "      <td>2.181467</td>\n",
       "      <td>37.85</td>\n",
       "      <td>-122.25</td>\n",
       "      <td>2</td>\n",
       "    </tr>\n",
       "    <tr>\n",
       "      <th>4</th>\n",
       "      <td>4.0368</td>\n",
       "      <td>52.0</td>\n",
       "      <td>4.761658</td>\n",
       "      <td>1.103627</td>\n",
       "      <td>413.0</td>\n",
       "      <td>2.139896</td>\n",
       "      <td>37.85</td>\n",
       "      <td>-122.25</td>\n",
       "      <td>2</td>\n",
       "    </tr>\n",
       "  </tbody>\n",
       "</table>\n",
       "</div>"
      ],
      "text/plain": [
       "   MedInc  HouseAge  AveRooms  AveBedrms  Population  AveOccup  Latitude  \\\n",
       "0  8.3252      41.0  6.984127   1.023810       322.0  2.555556     37.88   \n",
       "1  8.3014      21.0  6.238137   0.971880      2401.0  2.109842     37.86   \n",
       "2  5.6431      52.0  5.817352   1.073059       558.0  2.547945     37.85   \n",
       "3  3.8462      52.0  6.281853   1.081081       565.0  2.181467     37.85   \n",
       "4  4.0368      52.0  4.761658   1.103627       413.0  2.139896     37.85   \n",
       "\n",
       "   Longitude  target  \n",
       "0    -122.23       3  \n",
       "1    -122.22       2  \n",
       "2    -122.25       2  \n",
       "3    -122.25       2  \n",
       "4    -122.25       2  "
      ]
     },
     "execution_count": 3,
     "metadata": {},
     "output_type": "execute_result"
    }
   ],
   "source": [
    "data = pd.read_csv('california.csv')\n",
    "data.target = np.floor(data.target * NUM_CLASSES/5).astype('uint8')\n",
    "data = data[data.target.apply(lambda x: x in CLASSES_TO_KEEP)]\n",
    "data.head()"
   ]
  },
  {
   "cell_type": "markdown",
   "metadata": {},
   "source": [
    "## Stratify"
   ]
  },
  {
   "cell_type": "code",
   "execution_count": 4,
   "metadata": {},
   "outputs": [],
   "source": [
    "train, test = train_test_split(data, stratify=data.target, random_state=42)\n",
    "train.reset_index(drop=True, inplace=True)\n",
    "test.reset_index(drop=True, inplace=True)"
   ]
  },
  {
   "cell_type": "markdown",
   "metadata": {},
   "source": [
    "## Normalize"
   ]
  },
  {
   "cell_type": "code",
   "execution_count": 5,
   "metadata": {},
   "outputs": [],
   "source": [
    "mu = train.loc[:,:'Longitude'].mean()\n",
    "sigma = train.loc[:,:'Longitude'].std()\n",
    "\n",
    "train.loc[:,:'Longitude'] = (train.loc[:,:'Longitude'] - mu) / sigma\n",
    "test.loc[:,:'Longitude'] = (test.loc[:,:'Longitude'] - mu)/sigma"
   ]
  },
  {
   "cell_type": "markdown",
   "metadata": {},
   "source": [
    "## Verify stratification and priors"
   ]
  },
  {
   "cell_type": "code",
   "execution_count": 6,
   "metadata": {},
   "outputs": [
    {
     "data": {
      "text/html": [
       "<div>\n",
       "<style scoped>\n",
       "    .dataframe tbody tr th:only-of-type {\n",
       "        vertical-align: middle;\n",
       "    }\n",
       "\n",
       "    .dataframe tbody tr th {\n",
       "        vertical-align: top;\n",
       "    }\n",
       "\n",
       "    .dataframe thead th {\n",
       "        text-align: right;\n",
       "    }\n",
       "</style>\n",
       "<table border=\"1\" class=\"dataframe\">\n",
       "  <thead>\n",
       "    <tr style=\"text-align: right;\">\n",
       "      <th></th>\n",
       "      <th>train</th>\n",
       "      <th>test</th>\n",
       "    </tr>\n",
       "  </thead>\n",
       "  <tbody>\n",
       "    <tr>\n",
       "      <th>1</th>\n",
       "      <td>0.475438</td>\n",
       "      <td>0.475565</td>\n",
       "    </tr>\n",
       "    <tr>\n",
       "      <th>0</th>\n",
       "      <td>0.272779</td>\n",
       "      <td>0.272794</td>\n",
       "    </tr>\n",
       "    <tr>\n",
       "      <th>2</th>\n",
       "      <td>0.197471</td>\n",
       "      <td>0.197423</td>\n",
       "    </tr>\n",
       "    <tr>\n",
       "      <th>3</th>\n",
       "      <td>0.054313</td>\n",
       "      <td>0.054218</td>\n",
       "    </tr>\n",
       "  </tbody>\n",
       "</table>\n",
       "</div>"
      ],
      "text/plain": [
       "      train      test\n",
       "1  0.475438  0.475565\n",
       "0  0.272779  0.272794\n",
       "2  0.197471  0.197423\n",
       "3  0.054313  0.054218"
      ]
     },
     "execution_count": 6,
     "metadata": {},
     "output_type": "execute_result"
    }
   ],
   "source": [
    "priors = pd.DataFrame({\n",
    "    'train': train.target.value_counts() / len(train),\n",
    "    'test' : test.target.value_counts() / len(test)\n",
    "})\n",
    "priors"
   ]
  },
  {
   "cell_type": "markdown",
   "metadata": {},
   "source": [
    "## Baseline using Gaussian Naive Bayes library"
   ]
  },
  {
   "cell_type": "code",
   "execution_count": 7,
   "metadata": {},
   "outputs": [
    {
     "name": "stdout",
     "output_type": "stream",
     "text": [
      "Train Accuracy:  0.6070849546044098\n",
      "Test Accuracy:  0.6029662047167518\n"
     ]
    }
   ],
   "source": [
    "model = GaussianNB().fit(train.loc[:,:'Longitude'], train.target)\n",
    "preds = model.predict(train.loc[:,:'Longitude'])\n",
    "print(\"Train Accuracy: \", (train.target == preds).mean())\n",
    "\n",
    "preds = model.predict(test.loc[:,:'Longitude'])\n",
    "print(\"Test Accuracy: \", (test.target == preds).mean())"
   ]
  },
  {
   "cell_type": "markdown",
   "metadata": {},
   "source": [
    "## Gaussian Model"
   ]
  },
  {
   "cell_type": "code",
   "execution_count": 8,
   "metadata": {},
   "outputs": [],
   "source": [
    "class ClassConditionalGaussianModel:\n",
    "    def __init__(self, prior, mean, covInv, covDet):\n",
    "        self.prior = prior\n",
    "        self.mean = mean\n",
    "        self.covInv = covInv\n",
    "        self.denominator = np.sqrt(covDet)\n",
    "        \n",
    "    def posteriorProbScaled(self, x):\n",
    "        z = x - self.mean\n",
    "        numerator = self.prior * np.exp(-0.5 * np.diagonal(z @ self.covInv @ z.T) )\n",
    "        return numerator/self.denominator\n",
    "\n",
    "def predict(models, x):\n",
    "    if type(x) != np.ndarray:\n",
    "        x = np.array(x)\n",
    "    return np.array([model.posteriorProbScaled(x) for model in models]).T.argmax(axis=1)\n",
    "\n",
    "def getModels(train, classes=CLASSES_TO_KEEP):\n",
    "    X = np.array(train.loc[:,:'Longitude'])\n",
    "    y = np.array(train.target)\n",
    "    \n",
    "    idx = [y==i for i in classes] # X[idx[0]] gives all examples with target class 0\n",
    "    priors = [j.mean() for j in idx] # priors is fraction of times each class appears in the dataset\n",
    "    \n",
    "    means = [ X[j].mean(axis=0) for j in idx ] #classwise means\n",
    "    \n",
    "    covs = [ np.cov(X[j], rowvar=False) for j in idx ]\n",
    "    covInvs = [ np.linalg.inv(c) for c in covs ]\n",
    "    covDets = [ np.linalg.det(c) for c in covs ]\n",
    "    \n",
    "    return [        \n",
    "        ClassConditionalGaussianModel(priors[i], means[i], covInvs[i], covDets[i])\n",
    "        for i in classes\n",
    "    ]"
   ]
  },
  {
   "cell_type": "code",
   "execution_count": 9,
   "metadata": {},
   "outputs": [
    {
     "name": "stdout",
     "output_type": "stream",
     "text": [
      "Train accuracy:  0.6913099870298314\n",
      "Test accuracy:  0.6851446632628252\n"
     ]
    }
   ],
   "source": [
    "models = getModels(train)\n",
    "\n",
    "preds = predict(models, train.loc[:,:'Longitude'])\n",
    "print(\"Train accuracy: \", (train.target == preds).mean())\n",
    "\n",
    "preds = predict(models, test.loc[:,:'Longitude'])\n",
    "print(\"Test accuracy: \", (test.target == preds).mean())"
   ]
  },
  {
   "cell_type": "code",
   "execution_count": 10,
   "metadata": {},
   "outputs": [
    {
     "data": {
      "image/png": "[encoded data removed]",
      "text/plain": [
       "<Figure size 720x720 with 1 Axes>"
      ]
     },
     "metadata": {
      "needs_background": "light"
     },
     "output_type": "display_data"
    }
   ],
   "source": [
    "cm = confusion_matrix(test.target, preds)\n",
    "plt.figure(figsize=(10,10))\n",
    "sns.heatmap(cm, annot=True, fmt='.0f', cbar=False);"
   ]
  },
  {
   "cell_type": "code",
   "execution_count": 11,
   "metadata": {},
   "outputs": [
    {
     "name": "stdout",
     "output_type": "stream",
     "text": [
      "Class=0\n",
      "MedInc           2.509050\n",
      "HouseAge        28.841010\n",
      "AveRooms         4.933589\n",
      "AveBedrms        1.059839\n",
      "Population    1206.956018\n",
      "AveOccup         2.958886\n",
      "Latitude        36.517064\n",
      "Longitude     -119.806496\n",
      "dtype: float64\n",
      "\n",
      "Class=1\n",
      "MedInc           3.666294\n",
      "HouseAge        28.589940\n",
      "AveRooms         5.041481\n",
      "AveBedrms        1.043541\n",
      "Population    1320.905541\n",
      "AveOccup         2.899212\n",
      "Latitude        35.312321\n",
      "Longitude     -119.398645\n",
      "dtype: float64\n",
      "\n",
      "Class=2\n",
      "MedInc           4.768619\n",
      "HouseAge        30.418719\n",
      "AveRooms         5.501702\n",
      "AveBedrms        1.038264\n",
      "Population    1253.208949\n",
      "AveOccup         2.616477\n",
      "Latitude        35.554688\n",
      "Longitude     -119.978534\n",
      "dtype: float64\n",
      "\n",
      "Class=3\n",
      "MedInc           5.434312\n",
      "HouseAge        33.800000\n",
      "AveRooms         5.657103\n",
      "AveBedrms        1.038830\n",
      "Population    1169.725373\n",
      "AveOccup         2.430750\n",
      "Latitude        35.469463\n",
      "Longitude     -119.936119\n",
      "dtype: float64\n",
      "\n"
     ]
    }
   ],
   "source": [
    "for idx, model in enumerate(models):\n",
    "    print(f\"Class={idx}\")\n",
    "    print(model.mean*sigma + mu)\n",
    "    print()"
   ]
  },
  {
   "cell_type": "code",
   "execution_count": 12,
   "metadata": {},
   "outputs": [
    {
     "data": {
      "text/plain": [
       "<matplotlib.axes._subplots.AxesSubplot at 0x1a3d9de3a08>"
      ]
     },
     "execution_count": 12,
     "metadata": {},
     "output_type": "execute_result"
    },
    {
     "data": {
      "image/png": "[encoded data removed]",
      "text/plain": [
       "<Figure size 432x288 with 1 Axes>"
      ]
     },
     "metadata": {
      "needs_background": "light"
     },
     "output_type": "display_data"
    }
   ],
   "source": [
    "sns.scatterplot(data=test, y='Latitude', x='Longitude', hue='target')"
   ]
  }
 ],
 "metadata": {
  "kernelspec": {
   "display_name": "Python 3",
   "language": "python",
   "name": "python3"
  },
  "language_info": {
   "codemirror_mode": {
    "name": "ipython",
    "version": 3
   },
   "file_extension": ".py",
   "mimetype": "text/x-python",
   "name": "python",
   "nbconvert_exporter": "python",
   "pygments_lexer": "ipython3",
   "version": "3.7.7"
  }
 },
 "nbformat": 4,
 "nbformat_minor": 4
}
